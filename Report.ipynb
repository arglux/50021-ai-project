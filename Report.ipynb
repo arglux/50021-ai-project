{
 "cells": [
  {
   "cell_type": "markdown",
   "metadata": {},
   "source": [
    "# COVID-19 Retweet Prediction\n",
    "\n",
    "## Team Members\n",
    "1. Aaron Khoo\n",
    "2. Calvin Yusnoveri \n",
    "3. Amarjyot Kaur Narula\n",
    "4. Joseph Chng"
   ]
  },
  {
   "cell_type": "markdown",
   "metadata": {},
   "source": [
    "## Task Description"
   ]
  },
  {
   "cell_type": "markdown",
   "metadata": {},
   "source": [
    "## Dataset Description\n",
    "\n",
    "Data downloaded from here: https://data.gesis.org/tweetscov19/#dataset\n",
    "\n",
    "Data should be stored in `./data`\n",
    "\n",
    "Coulmn Names:\n",
    "1. Tweet Id: Long. - NOT USED\n",
    "2. Username: String. Encrypted for privacy issues. - NOT USED\n",
    "\n",
    "3. Timestamp: Format ( \"EEE MMM dd HH:mm:ss Z yyyy\" ). ISOString => integer (e.g. 23517957).\n",
    "\n",
    "4. #Followers: Integer.\n",
    "5. #Friends: Integer.\n",
    "6. #Retweets: Integer.\n",
    "7. #Favorites: Integer.\n",
    "\n",
    "8. Entities: String. For each entity, we aggregated the original text, the annotated entity and the produced score from FEL library. Each entity is separated from another entity by char \";\". Also, each entity is separated by char \":\" in order to store \"original_text:annotated_entity:score;\". If FEL did not find any entities, we have stored \"null;\".\n",
    "9. Sentiment: String. SentiStrength produces a score for positive (1 to 5) and negative (-1 to -5) sentiment. We splitted these two numbers by whitespace char \" \". Positive sentiment was stored first and then negative sentiment (i.e. \"2 -1\").\n",
    "\n",
    "10. Mentions: String. If the tweet contains mentions, we remove the char \"@\" and concatenate the mentions with whitespace char \" \". If no mentions appear, we have stored \"null;\".\n",
    "11. Hashtags: String. If the tweet contains hashtags, we remove the char \"#\" and concatenate the hashtags with whitespace char \" \". If no hashtags appear, we have stored \"null;\".\n",
    "\n",
    "12. URLs: String: If the tweet contains URLs, we concatenate the URLs using \":-: \". If no URLs appear, we have stored \"null;\""
   ]
  },
  {
   "cell_type": "markdown",
   "metadata": {},
   "source": [
    "## Preprocessing\n",
    "\n",
    "Clean Data (Final structure/form of data before it is fed into the model):\n",
    "1. Tweet Id: Long. - NOT USED\n",
    "2. Username: String. Encrypted for privacy issues. - NOT USED\n",
    "\n",
    "3. Timestamp: Format ( \"EEE MMM dd HH:mm:ss Z yyyy\" ). ISOString => integer (e.g. 23517957).\n",
    "\n",
    "4. #Followers: Integer.\n",
    "5. #Friends: Integer.\n",
    "6. #Retweets: Integer.\n",
    "7. #Favorites: Integer.\n",
    "\n",
    "8. Entities: String. For each entity, we aggregated the original text, the annotated entity and the produced score from FEL library. Each entity is separated from another entity by char \";\". Also, each entity is separated by char \":\" in order to store \"original_text:annotated_entity:score;\". If FEL did not find any entities, we have stored \"null;\".\n",
    "9. Sentiment: String. SentiStrength produces a score for positive (1 to 5) and negative (-1 to -5) sentiment. We splitted these two numbers by whitespace char \" \". Positive sentiment was stored first and then negative sentiment (i.e. \"2 -1\").\n",
    "\n",
    "10. Mentions: String. If the tweet contains mentions, we remove the char \"@\" and concatenate the mentions with whitespace char \" \". If no mentions appear, we have stored \"null;\".\n",
    "11. Hashtags: String. If the tweet contains hashtags, we remove the char \"#\" and concatenate the hashtags with whitespace char \" \". If no hashtags appear, we have stored \"null;\".\n",
    "\n",
    "12. URLs: String: If the tweet contains URLs, we concatenate the URLs using \":-: \". If no URLs appear, we have stored \"null;\""
   ]
  },
  {
   "cell_type": "markdown",
   "metadata": {},
   "source": [
    "## Model Architecture\n",
    "\n",
    "We use ensemble methods (insert image):\n",
    "1. 0-classifier (print out layer)\n",
    "2. regression model (print out layer)"
   ]
  },
  {
   "cell_type": "markdown",
   "metadata": {},
   "source": [
    "## Results\n",
    "\n",
    "Loss curve image.\n",
    "\n",
    "Accuracy on train and test set.\n",
    "\n",
    "Validation images."
   ]
  },
  {
   "cell_type": "markdown",
   "metadata": {},
   "source": [
    "## Discussion\n",
    "\n",
    "comparing with state of the art.\n",
    "\n",
    "possible issues"
   ]
  },
  {
   "cell_type": "markdown",
   "metadata": {},
   "source": [
    "## GUI\n",
    "\n",
    "Step-by-step Usage:\n",
    "1. run xxx\n",
    "2. click button\n",
    "3. done"
   ]
  },
  {
   "cell_type": "markdown",
   "metadata": {},
   "source": [
    "## Sources\n",
    "\n",
    "1. Source code: https://github.com/arglux/50021-ai-project\n",
    "2. Report: \n",
    "3. Reference papers:"
   ]
  },
  {
   "cell_type": "code",
   "execution_count": null,
   "metadata": {},
   "outputs": [],
   "source": []
  }
 ],
 "metadata": {
  "kernelspec": {
   "display_name": "Python 3",
   "language": "python",
   "name": "python3"
  },
  "language_info": {
   "codemirror_mode": {
    "name": "ipython",
    "version": 3
   },
   "file_extension": ".py",
   "mimetype": "text/x-python",
   "name": "python",
   "nbconvert_exporter": "python",
   "pygments_lexer": "ipython3",
   "version": "3.8.3"
  }
 },
 "nbformat": 4,
 "nbformat_minor": 4
}
