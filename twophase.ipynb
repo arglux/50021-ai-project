{
 "cells": [
  {
   "cell_type": "markdown",
   "metadata": {},
   "source": [
    "# Source\n",
    "\n",
    "Data downloaded from here: https://data.gesis.org/tweetscov19/#dataset\n",
    "\n",
    "Data should be stored in `./data`\n",
    "\n",
    "Coulmn Names:\n",
    "1. Tweet Id: Long. - NOT USED\n",
    "2. Username: String. Encrypted for privacy issues. - NOT USED\n",
    "\n",
    "3. Timestamp: Format ( \"EEE MMM dd HH:mm:ss Z yyyy\" ). ISOString => integer (e.g. 23517957).\n",
    "\n",
    "4. #Followers: Integer.\n",
    "5. #Friends: Integer.\n",
    "6. #Retweets: Integer.\n",
    "7. #Favorites: Integer.\n",
    "\n",
    "8. Entities: String. For each entity, we aggregated the original text, the annotated entity and the produced score from FEL library. Each entity is separated from another entity by char \";\". Also, each entity is separated by char \":\" in order to store \"original_text:annotated_entity:score;\". If FEL did not find any entities, we have stored \"null;\".\n",
    "9. Sentiment: String. SentiStrength produces a score for positive (1 to 5) and negative (-1 to -5) sentiment. We splitted these two numbers by whitespace char \" \". Positive sentiment was stored first and then negative sentiment (i.e. \"2 -1\").\n",
    "\n",
    "10. Mentions: String. If the tweet contains mentions, we remove the char \"@\" and concatenate the mentions with whitespace char \" \". If no mentions appear, we have stored \"null;\".\n",
    "11. Hashtags: String. If the tweet contains hashtags, we remove the char \"#\" and concatenate the hashtags with whitespace char \" \". If no hashtags appear, we have stored \"null;\".\n",
    "\n",
    "12. URLs: String: If the tweet contains URLs, we concatenate the URLs using \":-: \". If no URLs appear, we have stored \"null;\""
   ]
  },
  {
   "cell_type": "code",
   "execution_count": 1,
   "metadata": {},
   "outputs": [],
   "source": [
    "# imports\n",
    "import requests\n",
    "import numpy as np\n",
    "import pandas as pd\n",
    "import matplotlib.pyplot as plt\n",
    "import seaborn as sns"
   ]
  },
  {
   "cell_type": "code",
   "execution_count": 2,
   "metadata": {},
   "outputs": [],
   "source": [
    "header = [\n",
    "    \"Tweet Id\", \n",
    "    \"Username\", \n",
    "    \"Timestamp\", \n",
    "    \"#Followers\",\n",
    "    \"#Friends\",\n",
    "    \"#Retweets\",\n",
    "    \"#Favorites\",\n",
    "    \"Entities\",\n",
    "    \"Sentiment\",\n",
    "    \"Mentions\",\n",
    "    \"Hashtags\",\n",
    "    \"URLs\"\n",
    "]\n",
    "\n",
    "data = pd.read_csv(\"./data/TweetsCOV19_052020.tsv\", names=header, sep='\\t', quotechar='\"')"
   ]
  },
  {
   "cell_type": "code",
   "execution_count": 3,
   "metadata": {},
   "outputs": [
    {
     "data": {
      "text/html": [
       "<div>\n",
       "<style scoped>\n",
       "    .dataframe tbody tr th:only-of-type {\n",
       "        vertical-align: middle;\n",
       "    }\n",
       "\n",
       "    .dataframe tbody tr th {\n",
       "        vertical-align: top;\n",
       "    }\n",
       "\n",
       "    .dataframe thead th {\n",
       "        text-align: right;\n",
       "    }\n",
       "</style>\n",
       "<table border=\"1\" class=\"dataframe\">\n",
       "  <thead>\n",
       "    <tr style=\"text-align: right;\">\n",
       "      <th></th>\n",
       "      <th>Tweet Id</th>\n",
       "      <th>Username</th>\n",
       "      <th>Timestamp</th>\n",
       "      <th>#Followers</th>\n",
       "      <th>#Friends</th>\n",
       "      <th>#Retweets</th>\n",
       "      <th>#Favorites</th>\n",
       "      <th>Entities</th>\n",
       "      <th>Sentiment</th>\n",
       "      <th>Mentions</th>\n",
       "      <th>Hashtags</th>\n",
       "      <th>URLs</th>\n",
       "    </tr>\n",
       "  </thead>\n",
       "  <tbody>\n",
       "    <tr>\n",
       "      <th>0</th>\n",
       "      <td>1255980348229529601</td>\n",
       "      <td>fa5fd446e778da0acba3504aeab23da5</td>\n",
       "      <td>Thu Apr 30 22:00:24 +0000 2020</td>\n",
       "      <td>29697</td>\n",
       "      <td>24040</td>\n",
       "      <td>0</td>\n",
       "      <td>0</td>\n",
       "      <td>null;</td>\n",
       "      <td>1 -1</td>\n",
       "      <td>null;</td>\n",
       "      <td>Opinion Next2blowafrica thoughts</td>\n",
       "      <td>null;</td>\n",
       "    </tr>\n",
       "    <tr>\n",
       "      <th>1</th>\n",
       "      <td>1255981220640546816</td>\n",
       "      <td>547501e9cc84b8148ae1b8bde04157a4</td>\n",
       "      <td>Thu Apr 30 22:03:52 +0000 2020</td>\n",
       "      <td>799</td>\n",
       "      <td>1278</td>\n",
       "      <td>4</td>\n",
       "      <td>6</td>\n",
       "      <td>null;</td>\n",
       "      <td>1 -1</td>\n",
       "      <td>null;</td>\n",
       "      <td>null;</td>\n",
       "      <td>null;</td>\n",
       "    </tr>\n",
       "    <tr>\n",
       "      <th>2</th>\n",
       "      <td>1255981244560683008</td>\n",
       "      <td>840ac60dab55f6b212dc02dcbe5dfbd6</td>\n",
       "      <td>Thu Apr 30 22:03:58 +0000 2020</td>\n",
       "      <td>586</td>\n",
       "      <td>378</td>\n",
       "      <td>1</td>\n",
       "      <td>2</td>\n",
       "      <td>null;</td>\n",
       "      <td>2 -1</td>\n",
       "      <td>null;</td>\n",
       "      <td>null;</td>\n",
       "      <td>https://www.bbc.com/news/uk-england-beds-bucks...</td>\n",
       "    </tr>\n",
       "    <tr>\n",
       "      <th>3</th>\n",
       "      <td>1255981472285986816</td>\n",
       "      <td>37c68a001198b5efd4a21e2b68a0c9bc</td>\n",
       "      <td>Thu Apr 30 22:04:52 +0000 2020</td>\n",
       "      <td>237</td>\n",
       "      <td>168</td>\n",
       "      <td>0</td>\n",
       "      <td>0</td>\n",
       "      <td>null;</td>\n",
       "      <td>1 -1</td>\n",
       "      <td>null;</td>\n",
       "      <td>null;</td>\n",
       "      <td>https://lockdownsceptics.org/2020/04/30/latest...</td>\n",
       "    </tr>\n",
       "    <tr>\n",
       "      <th>4</th>\n",
       "      <td>1255981581354905600</td>\n",
       "      <td>8c3620bdfb9d2a1acfdf2412c9b34e06</td>\n",
       "      <td>Thu Apr 30 22:05:18 +0000 2020</td>\n",
       "      <td>423</td>\n",
       "      <td>427</td>\n",
       "      <td>0</td>\n",
       "      <td>0</td>\n",
       "      <td>i hate u:I_Hate_U:-1.8786140035817729;quaranti...</td>\n",
       "      <td>1 -4</td>\n",
       "      <td>null;</td>\n",
       "      <td>null;</td>\n",
       "      <td>null;</td>\n",
       "    </tr>\n",
       "    <tr>\n",
       "      <th>5</th>\n",
       "      <td>1255982235662024704</td>\n",
       "      <td>491a98bbc105806cb67f46f5e3f3d888</td>\n",
       "      <td>Thu Apr 30 22:07:54 +0000 2020</td>\n",
       "      <td>52</td>\n",
       "      <td>46</td>\n",
       "      <td>0</td>\n",
       "      <td>0</td>\n",
       "      <td>god forbid:God_Forbid:-1.2640735877261988;covi...</td>\n",
       "      <td>2 -4</td>\n",
       "      <td>Danartman BishopStika</td>\n",
       "      <td>null;</td>\n",
       "      <td>https://www.dailymail.co.uk/health/article-826...</td>\n",
       "    </tr>\n",
       "    <tr>\n",
       "      <th>6</th>\n",
       "      <td>1255982852371554304</td>\n",
       "      <td>916dec763c84916c929bb257ff96187d</td>\n",
       "      <td>Thu Apr 30 22:10:21 +0000 2020</td>\n",
       "      <td>70185</td>\n",
       "      <td>10625</td>\n",
       "      <td>213</td>\n",
       "      <td>926</td>\n",
       "      <td>beijing:Beijing:-1.4222174822860647;covid 19:C...</td>\n",
       "      <td>1 -4</td>\n",
       "      <td>null;</td>\n",
       "      <td>null;</td>\n",
       "      <td>https://canoe.com/news/world/u-s-mulling-poten...</td>\n",
       "    </tr>\n",
       "    <tr>\n",
       "      <th>7</th>\n",
       "      <td>1255983890524786689</td>\n",
       "      <td>86e70e2bdc63363a4fecce1c9ba60e0f</td>\n",
       "      <td>Thu Apr 30 22:14:29 +0000 2020</td>\n",
       "      <td>507</td>\n",
       "      <td>379</td>\n",
       "      <td>5</td>\n",
       "      <td>6</td>\n",
       "      <td>null;</td>\n",
       "      <td>1 -4</td>\n",
       "      <td>null;</td>\n",
       "      <td>null;</td>\n",
       "      <td>https://www.dispatch.com/news/20200430/conditi...</td>\n",
       "    </tr>\n",
       "    <tr>\n",
       "      <th>8</th>\n",
       "      <td>1255985637246865410</td>\n",
       "      <td>d6fff22276aad81631affdecb83a8d9a</td>\n",
       "      <td>Thu Apr 30 22:21:25 +0000 2020</td>\n",
       "      <td>101</td>\n",
       "      <td>127</td>\n",
       "      <td>0</td>\n",
       "      <td>0</td>\n",
       "      <td>stealth:Stealth_game:-2.646174787470186;</td>\n",
       "      <td>1 -3</td>\n",
       "      <td>null;</td>\n",
       "      <td>null;</td>\n",
       "      <td>http://www.safetyhealthnews.com/covid-prompted...</td>\n",
       "    </tr>\n",
       "    <tr>\n",
       "      <th>9</th>\n",
       "      <td>1255985687062601729</td>\n",
       "      <td>2af96845573e5256307de4504c9051fc</td>\n",
       "      <td>Thu Apr 30 22:21:37 +0000 2020</td>\n",
       "      <td>414</td>\n",
       "      <td>2151</td>\n",
       "      <td>1</td>\n",
       "      <td>3</td>\n",
       "      <td>quarantine:Quarantine:-2.3096035868012508;</td>\n",
       "      <td>3 -2</td>\n",
       "      <td>AlanCane604</td>\n",
       "      <td>COVID19.</td>\n",
       "      <td>null;</td>\n",
       "    </tr>\n",
       "  </tbody>\n",
       "</table>\n",
       "</div>"
      ],
      "text/plain": [
       "              Tweet Id                          Username  \\\n",
       "0  1255980348229529601  fa5fd446e778da0acba3504aeab23da5   \n",
       "1  1255981220640546816  547501e9cc84b8148ae1b8bde04157a4   \n",
       "2  1255981244560683008  840ac60dab55f6b212dc02dcbe5dfbd6   \n",
       "3  1255981472285986816  37c68a001198b5efd4a21e2b68a0c9bc   \n",
       "4  1255981581354905600  8c3620bdfb9d2a1acfdf2412c9b34e06   \n",
       "5  1255982235662024704  491a98bbc105806cb67f46f5e3f3d888   \n",
       "6  1255982852371554304  916dec763c84916c929bb257ff96187d   \n",
       "7  1255983890524786689  86e70e2bdc63363a4fecce1c9ba60e0f   \n",
       "8  1255985637246865410  d6fff22276aad81631affdecb83a8d9a   \n",
       "9  1255985687062601729  2af96845573e5256307de4504c9051fc   \n",
       "\n",
       "                        Timestamp  #Followers  #Friends  #Retweets  \\\n",
       "0  Thu Apr 30 22:00:24 +0000 2020       29697     24040          0   \n",
       "1  Thu Apr 30 22:03:52 +0000 2020         799      1278          4   \n",
       "2  Thu Apr 30 22:03:58 +0000 2020         586       378          1   \n",
       "3  Thu Apr 30 22:04:52 +0000 2020         237       168          0   \n",
       "4  Thu Apr 30 22:05:18 +0000 2020         423       427          0   \n",
       "5  Thu Apr 30 22:07:54 +0000 2020          52        46          0   \n",
       "6  Thu Apr 30 22:10:21 +0000 2020       70185     10625        213   \n",
       "7  Thu Apr 30 22:14:29 +0000 2020         507       379          5   \n",
       "8  Thu Apr 30 22:21:25 +0000 2020         101       127          0   \n",
       "9  Thu Apr 30 22:21:37 +0000 2020         414      2151          1   \n",
       "\n",
       "   #Favorites                                           Entities Sentiment  \\\n",
       "0           0                                              null;      1 -1   \n",
       "1           6                                              null;      1 -1   \n",
       "2           2                                              null;      2 -1   \n",
       "3           0                                              null;      1 -1   \n",
       "4           0  i hate u:I_Hate_U:-1.8786140035817729;quaranti...      1 -4   \n",
       "5           0  god forbid:God_Forbid:-1.2640735877261988;covi...      2 -4   \n",
       "6         926  beijing:Beijing:-1.4222174822860647;covid 19:C...      1 -4   \n",
       "7           6                                              null;      1 -4   \n",
       "8           0           stealth:Stealth_game:-2.646174787470186;      1 -3   \n",
       "9           3         quarantine:Quarantine:-2.3096035868012508;      3 -2   \n",
       "\n",
       "                Mentions                          Hashtags  \\\n",
       "0                  null;  Opinion Next2blowafrica thoughts   \n",
       "1                  null;                             null;   \n",
       "2                  null;                             null;   \n",
       "3                  null;                             null;   \n",
       "4                  null;                             null;   \n",
       "5  Danartman BishopStika                             null;   \n",
       "6                  null;                             null;   \n",
       "7                  null;                             null;   \n",
       "8                  null;                             null;   \n",
       "9            AlanCane604                          COVID19.   \n",
       "\n",
       "                                                URLs  \n",
       "0                                              null;  \n",
       "1                                              null;  \n",
       "2  https://www.bbc.com/news/uk-england-beds-bucks...  \n",
       "3  https://lockdownsceptics.org/2020/04/30/latest...  \n",
       "4                                              null;  \n",
       "5  https://www.dailymail.co.uk/health/article-826...  \n",
       "6  https://canoe.com/news/world/u-s-mulling-poten...  \n",
       "7  https://www.dispatch.com/news/20200430/conditi...  \n",
       "8  http://www.safetyhealthnews.com/covid-prompted...  \n",
       "9                                              null;  "
      ]
     },
     "execution_count": 3,
     "metadata": {},
     "output_type": "execute_result"
    }
   ],
   "source": [
    "data.head(10)"
   ]
  },
  {
   "cell_type": "code",
   "execution_count": 4,
   "metadata": {},
   "outputs": [
    {
     "data": {
      "text/plain": [
       "1912070"
      ]
     },
     "execution_count": 4,
     "metadata": {},
     "output_type": "execute_result"
    }
   ],
   "source": [
    "len(data)"
   ]
  },
  {
   "cell_type": "code",
   "execution_count": 5,
   "metadata": {},
   "outputs": [
    {
     "name": "stdout",
     "output_type": "stream",
     "text": [
      "<Response [401]>\n"
     ]
    }
   ],
   "source": [
    "base_url = \"https://api.twitter.com/2/tweets\"\n",
    "tweet_id = \"1255985687062601729\"\n",
    "\n",
    "res = requests.get(f\"{base_url}/{tweet_id}\")\n",
    "print(res) # error because need Auth: Bearer <token>, but this requires tweeter developer account"
   ]
  },
  {
   "cell_type": "code",
   "execution_count": 6,
   "metadata": {},
   "outputs": [],
   "source": [
    "df_nz=data.loc[data['#Retweets'] != 0]\n",
    "df_z=data.loc[data['#Retweets'] == 0]"
   ]
  },
  {
   "cell_type": "code",
   "execution_count": 7,
   "metadata": {},
   "outputs": [
    {
     "name": "stderr",
     "output_type": "stream",
     "text": [
      "<ipython-input-7-0a17ba2e8838>:1: SettingWithCopyWarning: \n",
      "A value is trying to be set on a copy of a slice from a DataFrame.\n",
      "Try using .loc[row_indexer,col_indexer] = value instead\n",
      "\n",
      "See the caveats in the documentation: https://pandas.pydata.org/pandas-docs/stable/user_guide/indexing.html#returning-a-view-versus-a-copy\n",
      "  df_nz['base10'] = np.log10(df_nz['#Retweets'])\n"
     ]
    }
   ],
   "source": [
    "df_nz['base10'] = np.log10(df_nz['#Retweets'])"
   ]
  },
  {
   "cell_type": "code",
   "execution_count": 8,
   "metadata": {},
   "outputs": [
    {
     "data": {
      "image/png": "[encoded data removed]",
      "text/plain": [
       "<Figure size 1440x720 with 1 Axes>"
      ]
     },
     "metadata": {
      "needs_background": "light"
     },
     "output_type": "display_data"
    }
   ],
   "source": [
    "plt.rcParams[\"figure.figsize\"] = (20,10)\n",
    "xvals = np.arange(len(df_nz['#Retweets'].value_counts()))\n",
    "yvals = list(df_nz['#Retweets'].value_counts())\n",
    "\n",
    "counts, bins, _ = plt.hist(df_nz['base10'], bins=20)\n",
    "\n",
    "for n, b in zip(counts, bins):\n",
    "    if n > 0:\n",
    "        plt.gca().text(b, n, str(int(n)))\n",
    "\n",
    "plt.rcParams[\"figure.figsize\"] = (20,10)\n",
    "plt.show()"
   ]
  },
  {
   "cell_type": "code",
   "execution_count": 9,
   "metadata": {},
   "outputs": [
    {
     "data": {
      "image/png": "[encoded data removed]",
      "text/plain": [
       "<Figure size 1440x720 with 1 Axes>"
      ]
     },
     "metadata": {
      "needs_background": "light"
     },
     "output_type": "display_data"
    }
   ],
   "source": [
    "xvals = np.arange(len(data['#Retweets'].value_counts()))\n",
    "yvals = list(data['#Retweets'].value_counts())\n",
    "\n",
    "counts, bins, _ = plt.hist(data['#Retweets'], bins=1)\n",
    "\n",
    "for n, b in zip(counts, bins):\n",
    "    if n > 0:\n",
    "        plt.gca().text(b, n, str(int(n)))\n",
    "\n",
    "\n",
    "plt.show()"
   ]
  },
  {
   "cell_type": "code",
   "execution_count": 10,
   "metadata": {
    "scrolled": false
   },
   "outputs": [
    {
     "data": {
      "text/html": [
       "<div>\n",
       "<style scoped>\n",
       "    .dataframe tbody tr th:only-of-type {\n",
       "        vertical-align: middle;\n",
       "    }\n",
       "\n",
       "    .dataframe tbody tr th {\n",
       "        vertical-align: top;\n",
       "    }\n",
       "\n",
       "    .dataframe thead th {\n",
       "        text-align: right;\n",
       "    }\n",
       "</style>\n",
       "<table border=\"1\" class=\"dataframe\">\n",
       "  <thead>\n",
       "    <tr style=\"text-align: right;\">\n",
       "      <th></th>\n",
       "      <th>Tweet Id</th>\n",
       "      <th>Username</th>\n",
       "      <th>Timestamp</th>\n",
       "      <th>#Followers</th>\n",
       "      <th>#Friends</th>\n",
       "      <th>#Retweets</th>\n",
       "      <th>#Favorites</th>\n",
       "      <th>Entities</th>\n",
       "      <th>Sentiment</th>\n",
       "      <th>Mentions</th>\n",
       "      <th>Hashtags</th>\n",
       "      <th>URLs</th>\n",
       "    </tr>\n",
       "  </thead>\n",
       "  <tbody>\n",
       "    <tr>\n",
       "      <th>1637862</th>\n",
       "      <td>1265465820995411973</td>\n",
       "      <td>0d4d9b3135ab4271ea36f4ebf8e9eae9</td>\n",
       "      <td>Wed May 27 02:12:17 +0000 2020</td>\n",
       "      <td>3317</td>\n",
       "      <td>3524</td>\n",
       "      <td>257467</td>\n",
       "      <td>845579</td>\n",
       "      <td>tear gas:Tear_gas:-1.688018296396458;</td>\n",
       "      <td>1 -1</td>\n",
       "      <td>null;</td>\n",
       "      <td>null;</td>\n",
       "      <td>null;</td>\n",
       "    </tr>\n",
       "    <tr>\n",
       "      <th>1208647</th>\n",
       "      <td>1266553959973445639</td>\n",
       "      <td>c9378a990def5939fb179e034a0d402e</td>\n",
       "      <td>Sat May 30 02:16:10 +0000 2020</td>\n",
       "      <td>18661</td>\n",
       "      <td>0</td>\n",
       "      <td>135818</td>\n",
       "      <td>363852</td>\n",
       "      <td>null;</td>\n",
       "      <td>1 -3</td>\n",
       "      <td>null;</td>\n",
       "      <td>null;</td>\n",
       "      <td>null;</td>\n",
       "    </tr>\n",
       "    <tr>\n",
       "      <th>1328169</th>\n",
       "      <td>1258750892448387074</td>\n",
       "      <td>1921c65230cd080c689dc82ea62e6e74</td>\n",
       "      <td>Fri May 08 13:29:33 +0000 2020</td>\n",
       "      <td>83320</td>\n",
       "      <td>1753</td>\n",
       "      <td>88667</td>\n",
       "      <td>224288</td>\n",
       "      <td>mike pence:Mike_Pence:-0.6712149436851893;ppe:...</td>\n",
       "      <td>1 -1</td>\n",
       "      <td>null;</td>\n",
       "      <td>null;</td>\n",
       "      <td>null;</td>\n",
       "    </tr>\n",
       "    <tr>\n",
       "      <th>1736035</th>\n",
       "      <td>1263579286201446400</td>\n",
       "      <td>7c4529bc4da01f288b95cd3876b4da47</td>\n",
       "      <td>Thu May 21 21:15:52 +0000 2020</td>\n",
       "      <td>451</td>\n",
       "      <td>359</td>\n",
       "      <td>82495</td>\n",
       "      <td>225014</td>\n",
       "      <td>null;</td>\n",
       "      <td>1 -1</td>\n",
       "      <td>null;</td>\n",
       "      <td>null;</td>\n",
       "      <td>null;</td>\n",
       "    </tr>\n",
       "    <tr>\n",
       "      <th>751238</th>\n",
       "      <td>1266546753182056453</td>\n",
       "      <td>32634ab407c86a56dde59551b3871c42</td>\n",
       "      <td>Sat May 30 01:47:31 +0000 2020</td>\n",
       "      <td>1545</td>\n",
       "      <td>874</td>\n",
       "      <td>66604</td>\n",
       "      <td>193599</td>\n",
       "      <td>douche:Douche:-2.0041883604919835;</td>\n",
       "      <td>3 -1</td>\n",
       "      <td>null;</td>\n",
       "      <td>null;</td>\n",
       "      <td>null;</td>\n",
       "    </tr>\n",
       "    <tr>\n",
       "      <th>...</th>\n",
       "      <td>...</td>\n",
       "      <td>...</td>\n",
       "      <td>...</td>\n",
       "      <td>...</td>\n",
       "      <td>...</td>\n",
       "      <td>...</td>\n",
       "      <td>...</td>\n",
       "      <td>...</td>\n",
       "      <td>...</td>\n",
       "      <td>...</td>\n",
       "      <td>...</td>\n",
       "      <td>...</td>\n",
       "    </tr>\n",
       "    <tr>\n",
       "      <th>407941</th>\n",
       "      <td>1264737293249794048</td>\n",
       "      <td>75224fc65ae453fe9ec3ca855cd8619b</td>\n",
       "      <td>Mon May 25 01:57:23 +0000 2020</td>\n",
       "      <td>80242531</td>\n",
       "      <td>46</td>\n",
       "      <td>25660</td>\n",
       "      <td>99272</td>\n",
       "      <td>null;</td>\n",
       "      <td>3 -1</td>\n",
       "      <td>null;</td>\n",
       "      <td>null;</td>\n",
       "      <td>null;</td>\n",
       "    </tr>\n",
       "    <tr>\n",
       "      <th>822506</th>\n",
       "      <td>1266335781775380480</td>\n",
       "      <td>bf4571b94429c5b18e0a219c197a56a4</td>\n",
       "      <td>Fri May 29 11:49:12 +0000 2020</td>\n",
       "      <td>6136949</td>\n",
       "      <td>28</td>\n",
       "      <td>25210</td>\n",
       "      <td>57242</td>\n",
       "      <td>covid 19:Coronavirus_disease_2019:-1.535776454...</td>\n",
       "      <td>1 -3</td>\n",
       "      <td>null;</td>\n",
       "      <td>null;</td>\n",
       "      <td>http://news.sky.com/story/coronavirus-monkeys-...</td>\n",
       "    </tr>\n",
       "    <tr>\n",
       "      <th>586930</th>\n",
       "      <td>1258537649368739840</td>\n",
       "      <td>f5636375bb151085d00b0d09e86e53b1</td>\n",
       "      <td>Thu May 07 23:22:12 +0000 2020</td>\n",
       "      <td>1571</td>\n",
       "      <td>639</td>\n",
       "      <td>24815</td>\n",
       "      <td>41715</td>\n",
       "      <td>null;</td>\n",
       "      <td>1 -1</td>\n",
       "      <td>gmpolice</td>\n",
       "      <td>null;</td>\n",
       "      <td>null;</td>\n",
       "    </tr>\n",
       "    <tr>\n",
       "      <th>492759</th>\n",
       "      <td>1263613225146482694</td>\n",
       "      <td>dcc2b63414b7da0eb620f046394b4116</td>\n",
       "      <td>Thu May 21 23:30:44 +0000 2020</td>\n",
       "      <td>724986</td>\n",
       "      <td>13034</td>\n",
       "      <td>24791</td>\n",
       "      <td>180780</td>\n",
       "      <td>twitter:Twitter:-1.1708686827892931;</td>\n",
       "      <td>1 -1</td>\n",
       "      <td>null;</td>\n",
       "      <td>null;</td>\n",
       "      <td>null;</td>\n",
       "    </tr>\n",
       "    <tr>\n",
       "      <th>1754026</th>\n",
       "      <td>1266898698824343552</td>\n",
       "      <td>72ee37001f601af5cf326312ac1816ef</td>\n",
       "      <td>Sun May 31 01:06:02 +0000 2020</td>\n",
       "      <td>5183</td>\n",
       "      <td>848</td>\n",
       "      <td>24747</td>\n",
       "      <td>46914</td>\n",
       "      <td>hijab:Hijab:-1.3189596794722753;</td>\n",
       "      <td>1 -3</td>\n",
       "      <td>null;</td>\n",
       "      <td>null;</td>\n",
       "      <td>null;</td>\n",
       "    </tr>\n",
       "  </tbody>\n",
       "</table>\n",
       "<p>100 rows × 12 columns</p>\n",
       "</div>"
      ],
      "text/plain": [
       "                    Tweet Id                          Username  \\\n",
       "1637862  1265465820995411973  0d4d9b3135ab4271ea36f4ebf8e9eae9   \n",
       "1208647  1266553959973445639  c9378a990def5939fb179e034a0d402e   \n",
       "1328169  1258750892448387074  1921c65230cd080c689dc82ea62e6e74   \n",
       "1736035  1263579286201446400  7c4529bc4da01f288b95cd3876b4da47   \n",
       "751238   1266546753182056453  32634ab407c86a56dde59551b3871c42   \n",
       "...                      ...                               ...   \n",
       "407941   1264737293249794048  75224fc65ae453fe9ec3ca855cd8619b   \n",
       "822506   1266335781775380480  bf4571b94429c5b18e0a219c197a56a4   \n",
       "586930   1258537649368739840  f5636375bb151085d00b0d09e86e53b1   \n",
       "492759   1263613225146482694  dcc2b63414b7da0eb620f046394b4116   \n",
       "1754026  1266898698824343552  72ee37001f601af5cf326312ac1816ef   \n",
       "\n",
       "                              Timestamp  #Followers  #Friends  #Retweets  \\\n",
       "1637862  Wed May 27 02:12:17 +0000 2020        3317      3524     257467   \n",
       "1208647  Sat May 30 02:16:10 +0000 2020       18661         0     135818   \n",
       "1328169  Fri May 08 13:29:33 +0000 2020       83320      1753      88667   \n",
       "1736035  Thu May 21 21:15:52 +0000 2020         451       359      82495   \n",
       "751238   Sat May 30 01:47:31 +0000 2020        1545       874      66604   \n",
       "...                                 ...         ...       ...        ...   \n",
       "407941   Mon May 25 01:57:23 +0000 2020    80242531        46      25660   \n",
       "822506   Fri May 29 11:49:12 +0000 2020     6136949        28      25210   \n",
       "586930   Thu May 07 23:22:12 +0000 2020        1571       639      24815   \n",
       "492759   Thu May 21 23:30:44 +0000 2020      724986     13034      24791   \n",
       "1754026  Sun May 31 01:06:02 +0000 2020        5183       848      24747   \n",
       "\n",
       "         #Favorites                                           Entities  \\\n",
       "1637862      845579              tear gas:Tear_gas:-1.688018296396458;   \n",
       "1208647      363852                                              null;   \n",
       "1328169      224288  mike pence:Mike_Pence:-0.6712149436851893;ppe:...   \n",
       "1736035      225014                                              null;   \n",
       "751238       193599                 douche:Douche:-2.0041883604919835;   \n",
       "...             ...                                                ...   \n",
       "407941        99272                                              null;   \n",
       "822506        57242  covid 19:Coronavirus_disease_2019:-1.535776454...   \n",
       "586930        41715                                              null;   \n",
       "492759       180780               twitter:Twitter:-1.1708686827892931;   \n",
       "1754026       46914                   hijab:Hijab:-1.3189596794722753;   \n",
       "\n",
       "        Sentiment  Mentions Hashtags  \\\n",
       "1637862      1 -1     null;    null;   \n",
       "1208647      1 -3     null;    null;   \n",
       "1328169      1 -1     null;    null;   \n",
       "1736035      1 -1     null;    null;   \n",
       "751238       3 -1     null;    null;   \n",
       "...           ...       ...      ...   \n",
       "407941       3 -1     null;    null;   \n",
       "822506       1 -3     null;    null;   \n",
       "586930       1 -1  gmpolice    null;   \n",
       "492759       1 -1     null;    null;   \n",
       "1754026      1 -3     null;    null;   \n",
       "\n",
       "                                                      URLs  \n",
       "1637862                                              null;  \n",
       "1208647                                              null;  \n",
       "1328169                                              null;  \n",
       "1736035                                              null;  \n",
       "751238                                               null;  \n",
       "...                                                    ...  \n",
       "407941                                               null;  \n",
       "822506   http://news.sky.com/story/coronavirus-monkeys-...  \n",
       "586930                                               null;  \n",
       "492759                                               null;  \n",
       "1754026                                              null;  \n",
       "\n",
       "[100 rows x 12 columns]"
      ]
     },
     "execution_count": 10,
     "metadata": {},
     "output_type": "execute_result"
    }
   ],
   "source": [
    "sorted_by_retweets = data.sort_values(by='#Retweets', ascending=False)\n",
    "# sorted_by_retweets['#Entities'] = sorted_by_retweets.loc[sorted_by_retweets['Entities'] != \"null\"]\n",
    "sorted_by_retweets.head(100)\n"
   ]
  },
  {
   "cell_type": "markdown",
   "metadata": {},
   "source": [
    "Sad life. Apparently, most high retweets have no mentions and hashtags... T.T my work is useless honestly."
   ]
  },
  {
   "cell_type": "code",
   "execution_count": 11,
   "metadata": {},
   "outputs": [],
   "source": [
    "total_retweets = sorted_by_retweets['#Retweets'].sum()"
   ]
  },
  {
   "cell_type": "code",
   "execution_count": 12,
   "metadata": {},
   "outputs": [
    {
     "data": {
      "text/html": [
       "<div>\n",
       "<style scoped>\n",
       "    .dataframe tbody tr th:only-of-type {\n",
       "        vertical-align: middle;\n",
       "    }\n",
       "\n",
       "    .dataframe tbody tr th {\n",
       "        vertical-align: top;\n",
       "    }\n",
       "\n",
       "    .dataframe thead th {\n",
       "        text-align: right;\n",
       "    }\n",
       "</style>\n",
       "<table border=\"1\" class=\"dataframe\">\n",
       "  <thead>\n",
       "    <tr style=\"text-align: right;\">\n",
       "      <th></th>\n",
       "      <th>#Followers</th>\n",
       "      <th>#Friends</th>\n",
       "      <th>#Retweets</th>\n",
       "      <th>#Favorites</th>\n",
       "    </tr>\n",
       "  </thead>\n",
       "  <tbody>\n",
       "    <tr>\n",
       "      <th>0</th>\n",
       "      <td>29697</td>\n",
       "      <td>24040</td>\n",
       "      <td>0</td>\n",
       "      <td>0</td>\n",
       "    </tr>\n",
       "    <tr>\n",
       "      <th>1076952</th>\n",
       "      <td>808</td>\n",
       "      <td>859</td>\n",
       "      <td>0</td>\n",
       "      <td>0</td>\n",
       "    </tr>\n",
       "    <tr>\n",
       "      <th>1076950</th>\n",
       "      <td>2185</td>\n",
       "      <td>2978</td>\n",
       "      <td>0</td>\n",
       "      <td>0</td>\n",
       "    </tr>\n",
       "    <tr>\n",
       "      <th>1076949</th>\n",
       "      <td>345</td>\n",
       "      <td>648</td>\n",
       "      <td>0</td>\n",
       "      <td>0</td>\n",
       "    </tr>\n",
       "    <tr>\n",
       "      <th>1076948</th>\n",
       "      <td>164</td>\n",
       "      <td>551</td>\n",
       "      <td>0</td>\n",
       "      <td>0</td>\n",
       "    </tr>\n",
       "    <tr>\n",
       "      <th>...</th>\n",
       "      <td>...</td>\n",
       "      <td>...</td>\n",
       "      <td>...</td>\n",
       "      <td>...</td>\n",
       "    </tr>\n",
       "    <tr>\n",
       "      <th>751238</th>\n",
       "      <td>1545</td>\n",
       "      <td>874</td>\n",
       "      <td>66604</td>\n",
       "      <td>193599</td>\n",
       "    </tr>\n",
       "    <tr>\n",
       "      <th>1736035</th>\n",
       "      <td>451</td>\n",
       "      <td>359</td>\n",
       "      <td>82495</td>\n",
       "      <td>225014</td>\n",
       "    </tr>\n",
       "    <tr>\n",
       "      <th>1328169</th>\n",
       "      <td>83320</td>\n",
       "      <td>1753</td>\n",
       "      <td>88667</td>\n",
       "      <td>224288</td>\n",
       "    </tr>\n",
       "    <tr>\n",
       "      <th>1208647</th>\n",
       "      <td>18661</td>\n",
       "      <td>0</td>\n",
       "      <td>135818</td>\n",
       "      <td>363852</td>\n",
       "    </tr>\n",
       "    <tr>\n",
       "      <th>1637862</th>\n",
       "      <td>3317</td>\n",
       "      <td>3524</td>\n",
       "      <td>257467</td>\n",
       "      <td>845579</td>\n",
       "    </tr>\n",
       "  </tbody>\n",
       "</table>\n",
       "<p>1912070 rows × 4 columns</p>\n",
       "</div>"
      ],
      "text/plain": [
       "         #Followers  #Friends  #Retweets  #Favorites\n",
       "0             29697     24040          0           0\n",
       "1076952         808       859          0           0\n",
       "1076950        2185      2978          0           0\n",
       "1076949         345       648          0           0\n",
       "1076948         164       551          0           0\n",
       "...             ...       ...        ...         ...\n",
       "751238         1545       874      66604      193599\n",
       "1736035         451       359      82495      225014\n",
       "1328169       83320      1753      88667      224288\n",
       "1208647       18661         0     135818      363852\n",
       "1637862        3317      3524     257467      845579\n",
       "\n",
       "[1912070 rows x 4 columns]"
      ]
     },
     "execution_count": 12,
     "metadata": {},
     "output_type": "execute_result"
    }
   ],
   "source": [
    "df = data[['#Followers','#Friends','#Retweets','#Favorites']]\n",
    "df = df.sort_values(by='#Retweets', ascending=True)\n",
    "df"
   ]
  },
  {
   "cell_type": "code",
   "execution_count": 13,
   "metadata": {},
   "outputs": [
    {
     "data": {
      "text/plain": [
       "<AxesSubplot:>"
      ]
     },
     "execution_count": 13,
     "metadata": {},
     "output_type": "execute_result"
    },
    {
     "data": {
      "image/png": "[encoded data removed]",
      "text/plain": [
       "<Figure size 792x648 with 2 Axes>"
      ]
     },
     "metadata": {
      "needs_background": "light"
     },
     "output_type": "display_data"
    }
   ],
   "source": [
    "mask = np.triu(np.ones_like(df.corr(), dtype=bool))\n",
    "f, ax = plt.subplots(figsize=(11, 9))\n",
    "sns.heatmap(df.corr(), annot=True, mask=mask, cmap=sns.diverging_palette(230, 20, as_cmap=True), vmax=.3, center=0, square=True)"
   ]
  },
  {
   "cell_type": "code",
   "execution_count": 14,
   "metadata": {},
   "outputs": [
    {
     "data": {
      "image/png": "[encoded data removed]",
      "text/plain": [
       "<Figure size 432x1296 with 3 Axes>"
      ]
     },
     "metadata": {
      "needs_background": "light"
     },
     "output_type": "display_data"
    }
   ],
   "source": [
    "def plotter(data, target_col):\n",
    "    column_list = list(data.columns)\n",
    "    column_list.remove(target_col)\n",
    "    len_col = len(column_list) #length of list of all the dependent variables\n",
    "    fig, axes = plt.subplots(len_col, figsize = (6, 6 * len_col)) #Creating a plot with subplots for each independant variable\n",
    "    for col, ax in zip(column_list, axes): #The for loop goes through zipped list of column names and subplot and plots each plot\n",
    "        ax.scatter(data[col], data[target_col], alpha = 0.3, c = np.random.choice(['b', 'g', 'r', 'c', 'm', 'y', 'k']))\n",
    "        ax.set_xlabel(col)\n",
    "        ax.set_ylabel(target_col)\n",
    "        \n",
    "\n",
    "plotter(df, '#Retweets')"
   ]
  },
  {
   "cell_type": "markdown",
   "metadata": {},
   "source": [
    "## Clustering / Label Generation"
   ]
  },
  {
   "cell_type": "code",
   "execution_count": 15,
   "metadata": {},
   "outputs": [],
   "source": [
    "from sklearn.cluster import KMeans\n",
    "from sklearn.preprocessing import MinMaxScaler\n",
    "import numpy as np\n",
    "import pandas as pd\n",
    "import seaborn as sns\n",
    "from tqdm.notebook import tqdm\n",
    "import matplotlib.pyplot as plt"
   ]
  },
  {
   "cell_type": "code",
   "execution_count": 16,
   "metadata": {},
   "outputs": [
    {
     "data": {
      "text/plain": [
       "<AxesSubplot:xlabel='clusters', ylabel='WSS'>"
      ]
     },
     "execution_count": 16,
     "metadata": {},
     "output_type": "execute_result"
    },
    {
     "data": {
      "image/png": "[encoded data removed]",
      "text/plain": [
       "<Figure size 1440x720 with 1 Axes>"
      ]
     },
     "metadata": {
      "needs_background": "light"
     },
     "output_type": "display_data"
    }
   ],
   "source": [
    "distances=[]\n",
    "K = range(1,10)\n",
    "for k in K:\n",
    "    km = KMeans(n_clusters=k)\n",
    "    km = km.fit(df[[\"#Retweets\",\"#Retweets\"]])\n",
    "    distances.append(km.inertia_)\n",
    "\n",
    "sns.scatterplot(x='clusters', y='WSS', data=pd.DataFrame({'clusters': K,'WSS':distances}))"
   ]
  },
  {
   "cell_type": "code",
   "execution_count": 17,
   "metadata": {},
   "outputs": [
    {
     "name": "stdout",
     "output_type": "stream",
     "text": [
      "1.0\n",
      "0.5127907391155928\n",
      "0.34402738683368334\n",
      "0.22180625142281146\n",
      "0.14167138840865065\n",
      "0.10080692537767068\n",
      "0.07806793374507084\n",
      "0.05836586118004846\n",
      "0.044831397917746936\n"
     ]
    }
   ],
   "source": [
    "for d in distances:\n",
    "    print(d/max(distances))"
   ]
  },
  {
   "cell_type": "code",
   "execution_count": 18,
   "metadata": {
    "scrolled": true
   },
   "outputs": [
    {
     "data": {
      "text/html": [
       "<div>\n",
       "<style scoped>\n",
       "    .dataframe tbody tr th:only-of-type {\n",
       "        vertical-align: middle;\n",
       "    }\n",
       "\n",
       "    .dataframe tbody tr th {\n",
       "        vertical-align: top;\n",
       "    }\n",
       "\n",
       "    .dataframe thead th {\n",
       "        text-align: right;\n",
       "    }\n",
       "</style>\n",
       "<table border=\"1\" class=\"dataframe\">\n",
       "  <thead>\n",
       "    <tr style=\"text-align: right;\">\n",
       "      <th></th>\n",
       "      <th>#Followers</th>\n",
       "      <th>#Friends</th>\n",
       "      <th>#Retweets</th>\n",
       "      <th>#Favorites</th>\n",
       "      <th>cluster</th>\n",
       "    </tr>\n",
       "  </thead>\n",
       "  <tbody>\n",
       "    <tr>\n",
       "      <th>0</th>\n",
       "      <td>29697</td>\n",
       "      <td>24040</td>\n",
       "      <td>0</td>\n",
       "      <td>0</td>\n",
       "      <td>0</td>\n",
       "    </tr>\n",
       "    <tr>\n",
       "      <th>1076952</th>\n",
       "      <td>808</td>\n",
       "      <td>859</td>\n",
       "      <td>0</td>\n",
       "      <td>0</td>\n",
       "      <td>0</td>\n",
       "    </tr>\n",
       "    <tr>\n",
       "      <th>1076950</th>\n",
       "      <td>2185</td>\n",
       "      <td>2978</td>\n",
       "      <td>0</td>\n",
       "      <td>0</td>\n",
       "      <td>0</td>\n",
       "    </tr>\n",
       "    <tr>\n",
       "      <th>1076949</th>\n",
       "      <td>345</td>\n",
       "      <td>648</td>\n",
       "      <td>0</td>\n",
       "      <td>0</td>\n",
       "      <td>0</td>\n",
       "    </tr>\n",
       "    <tr>\n",
       "      <th>1076948</th>\n",
       "      <td>164</td>\n",
       "      <td>551</td>\n",
       "      <td>0</td>\n",
       "      <td>0</td>\n",
       "      <td>0</td>\n",
       "    </tr>\n",
       "  </tbody>\n",
       "</table>\n",
       "</div>"
      ],
      "text/plain": [
       "         #Followers  #Friends  #Retweets  #Favorites  cluster\n",
       "0             29697     24040          0           0        0\n",
       "1076952         808       859          0           0        0\n",
       "1076950        2185      2978          0           0        0\n",
       "1076949         345       648          0           0        0\n",
       "1076948         164       551          0           0        0"
      ]
     },
     "execution_count": 18,
     "metadata": {},
     "output_type": "execute_result"
    }
   ],
   "source": [
    "km = KMeans(n_clusters=3)\n",
    "df['cluster'] = km.fit_predict(df[[\"#Retweets\",\"#Retweets\"]])\n",
    "df.head()"
   ]
  },
  {
   "cell_type": "code",
   "execution_count": 19,
   "metadata": {},
   "outputs": [
    {
     "name": "stdout",
     "output_type": "stream",
     "text": [
      "1910213\n",
      "132\n",
      "1725\n"
     ]
    }
   ],
   "source": [
    "for x in range(3):\n",
    "    print(len(df[df['cluster']==x]))"
   ]
  },
  {
   "cell_type": "code",
   "execution_count": 20,
   "metadata": {},
   "outputs": [
    {
     "data": {
      "image/png": "[encoded data removed]",
      "text/plain": [
       "<Figure size 1440x720 with 1 Axes>"
      ]
     },
     "metadata": {
      "needs_background": "light"
     },
     "output_type": "display_data"
    },
    {
     "data": {
      "image/png": "[encoded data removed]",
      "text/plain": [
       "<Figure size 1440x720 with 1 Axes>"
      ]
     },
     "metadata": {
      "needs_background": "light"
     },
     "output_type": "display_data"
    },
    {
     "data": {
      "image/png": "[encoded data removed]",
      "text/plain": [
       "<Figure size 1440x720 with 1 Axes>"
      ]
     },
     "metadata": {
      "needs_background": "light"
     },
     "output_type": "display_data"
    },
    {
     "data": {
      "image/png": "[encoded data removed]",
      "text/plain": [
       "<Figure size 1440x720 with 1 Axes>"
      ]
     },
     "metadata": {
      "needs_background": "light"
     },
     "output_type": "display_data"
    }
   ],
   "source": [
    "df1=df[df.cluster==0]\n",
    "df2=df[df.cluster==1]\n",
    "df3=df[df.cluster==2]\n",
    "\n",
    "sns.scatterplot(x='#Retweets',y='#Retweets', data=df1, color='black')\n",
    "sns.scatterplot(x='#Retweets',y='#Retweets', data=df2, color='red')\n",
    "sns.scatterplot(x='#Retweets',y='#Retweets', data=df3, color='blue')\n",
    "plt.show()\n",
    "sns.scatterplot(x='#Retweets',y='#Retweets', data=df1, color='black')\n",
    "plt.show()\n",
    "sns.scatterplot(x='#Retweets',y='#Retweets', data=df2, color='red')\n",
    "plt.show()\n",
    "sns.scatterplot(x='#Retweets',y='#Retweets', data=df3, color='blue')\n",
    "plt.show()"
   ]
  },
  {
   "cell_type": "code",
   "execution_count": 21,
   "metadata": {},
   "outputs": [
    {
     "ename": "ZeroDivisionError",
     "evalue": "division by zero",
     "output_type": "error",
     "traceback": [
      "\u001b[1;31m---------------------------------------------------------------------------\u001b[0m",
      "\u001b[1;31mZeroDivisionError\u001b[0m                         Traceback (most recent call last)",
      "\u001b[1;32m<ipython-input-21-9e1622b385b6>\u001b[0m in \u001b[0;36m<module>\u001b[1;34m\u001b[0m\n\u001b[1;32m----> 1\u001b[1;33m \u001b[1;36m1\u001b[0m\u001b[1;33m/\u001b[0m\u001b[1;36m0\u001b[0m\u001b[1;33m\u001b[0m\u001b[1;33m\u001b[0m\u001b[0m\n\u001b[0m",
      "\u001b[1;31mZeroDivisionError\u001b[0m: division by zero"
     ]
    }
   ],
   "source": [
    "1/0"
   ]
  },
  {
   "cell_type": "code",
   "execution_count": 22,
   "metadata": {},
   "outputs": [
    {
     "name": "stdout",
     "output_type": "stream",
     "text": [
      "#Followers      3317\n",
      "#Friends        3524\n",
      "#Retweets     257467\n",
      "#Favorites    845579\n",
      "cluster            1\n",
      "Name: 1637862, dtype: int64\n",
      "#Followers    23366\n",
      "#Friends      14669\n",
      "#Retweets        14\n",
      "#Favorites        7\n",
      "cluster           0\n",
      "Name: 83748, dtype: int64\n",
      "#Followers    978\n",
      "#Friends      875\n",
      "#Retweets     148\n",
      "#Favorites    294\n",
      "cluster         0\n",
      "Name: 199915, dtype: int64\n"
     ]
    }
   ],
   "source": [
    "for split in [0,0.8,0.96]:\n",
    "    print(df.iloc[int(len(df)*split)-1])"
   ]
  },
  {
   "cell_type": "code",
   "execution_count": 23,
   "metadata": {},
   "outputs": [],
   "source": [
    "df['#LogRetweets']=df['#Retweets'].apply(lambda x: np.log10(x) if int(x) != 0 else 0)"
   ]
  },
  {
   "cell_type": "code",
   "execution_count": 24,
   "metadata": {},
   "outputs": [
    {
     "data": {
      "text/html": [
       "<div>\n",
       "<style scoped>\n",
       "    .dataframe tbody tr th:only-of-type {\n",
       "        vertical-align: middle;\n",
       "    }\n",
       "\n",
       "    .dataframe tbody tr th {\n",
       "        vertical-align: top;\n",
       "    }\n",
       "\n",
       "    .dataframe thead th {\n",
       "        text-align: right;\n",
       "    }\n",
       "</style>\n",
       "<table border=\"1\" class=\"dataframe\">\n",
       "  <thead>\n",
       "    <tr style=\"text-align: right;\">\n",
       "      <th></th>\n",
       "      <th>#Followers</th>\n",
       "      <th>#Friends</th>\n",
       "      <th>#Retweets</th>\n",
       "      <th>#Favorites</th>\n",
       "      <th>cluster</th>\n",
       "      <th>#LogRetweets</th>\n",
       "    </tr>\n",
       "  </thead>\n",
       "  <tbody>\n",
       "    <tr>\n",
       "      <th>751238</th>\n",
       "      <td>1545</td>\n",
       "      <td>874</td>\n",
       "      <td>66604</td>\n",
       "      <td>193599</td>\n",
       "      <td>1</td>\n",
       "      <td>4.823500</td>\n",
       "    </tr>\n",
       "    <tr>\n",
       "      <th>1736035</th>\n",
       "      <td>451</td>\n",
       "      <td>359</td>\n",
       "      <td>82495</td>\n",
       "      <td>225014</td>\n",
       "      <td>1</td>\n",
       "      <td>4.916428</td>\n",
       "    </tr>\n",
       "    <tr>\n",
       "      <th>1328169</th>\n",
       "      <td>83320</td>\n",
       "      <td>1753</td>\n",
       "      <td>88667</td>\n",
       "      <td>224288</td>\n",
       "      <td>1</td>\n",
       "      <td>4.947762</td>\n",
       "    </tr>\n",
       "    <tr>\n",
       "      <th>1208647</th>\n",
       "      <td>18661</td>\n",
       "      <td>0</td>\n",
       "      <td>135818</td>\n",
       "      <td>363852</td>\n",
       "      <td>1</td>\n",
       "      <td>5.132957</td>\n",
       "    </tr>\n",
       "    <tr>\n",
       "      <th>1637862</th>\n",
       "      <td>3317</td>\n",
       "      <td>3524</td>\n",
       "      <td>257467</td>\n",
       "      <td>845579</td>\n",
       "      <td>1</td>\n",
       "      <td>5.410722</td>\n",
       "    </tr>\n",
       "  </tbody>\n",
       "</table>\n",
       "</div>"
      ],
      "text/plain": [
       "         #Followers  #Friends  #Retweets  #Favorites  cluster  #LogRetweets\n",
       "751238         1545       874      66604      193599        1      4.823500\n",
       "1736035         451       359      82495      225014        1      4.916428\n",
       "1328169       83320      1753      88667      224288        1      4.947762\n",
       "1208647       18661         0     135818      363852        1      5.132957\n",
       "1637862        3317      3524     257467      845579        1      5.410722"
      ]
     },
     "execution_count": 24,
     "metadata": {},
     "output_type": "execute_result"
    }
   ],
   "source": [
    "df.tail()"
   ]
  },
  {
   "cell_type": "code",
   "execution_count": 25,
   "metadata": {},
   "outputs": [],
   "source": [
    "df['cluster']=df['#Retweets'].apply(lambda x: np.log10(x) if int(x) != 0 else 0)"
   ]
  },
  {
   "cell_type": "code",
   "execution_count": 26,
   "metadata": {},
   "outputs": [],
   "source": [
    "splits=list(map(lambda x: int(x*len(df)),[0.8,0.96,1]))\n",
    "for i in df.index:\n",
    "    if i < splits[0]:\n",
    "        df.at[i, 'cluster'] = 0\n",
    "    elif i < splits[1]:\n",
    "        df.at[i, 'cluster'] = 1\n",
    "    else:\n",
    "        df.at[i, 'cluster'] = 2"
   ]
  },
  {
   "cell_type": "code",
   "execution_count": 27,
   "metadata": {},
   "outputs": [
    {
     "name": "stdout",
     "output_type": "stream",
     "text": [
      "[1529656, 305931, 76483]\n",
      "1912070\n",
      "1912070\n"
     ]
    }
   ],
   "source": [
    "df['cluster'] = df['cluster'].astype(int)\n",
    "n=[]\n",
    "for x in range(3):\n",
    "    n.append(len(df[df['cluster']==x]))\n",
    "print(n)\n",
    "print(sum(n))\n",
    "print(len(df))\n",
    "df.to_csv('sample.csv')"
   ]
  },
  {
   "cell_type": "markdown",
   "metadata": {},
   "source": [
    "## Data Wrangling"
   ]
  },
  {
   "cell_type": "code",
   "execution_count": 35,
   "metadata": {},
   "outputs": [
    {
     "name": "stdout",
     "output_type": "stream",
     "text": [
      "cuda:0\n"
     ]
    }
   ],
   "source": [
    "import torch\n",
    "import torch.nn as nn\n",
    "from torch.autograd import Variable\n",
    "import torch.optim as optim\n",
    "from torch.utils.data import Dataset, DataLoader\n",
    "\n",
    "from sklearn.model_selection import train_test_split\n",
    "from tqdm import trange\n",
    "device = torch.device(\"cuda:0\" if torch.cuda.is_available() else \"cpu\")\n",
    "print (device)\n",
    "\n",
    "class CreateDataset(Dataset):\n",
    "    def __init__(self, path, limit=None):\n",
    "        header = [\n",
    "            \"Tweet Id\", \n",
    "            \"Username\", \n",
    "            \"Timestamp\", \n",
    "            \"#Followers\",\n",
    "            \"#Friends\",\n",
    "            \"#Retweets\",\n",
    "            \"#Favorites\",\n",
    "            \"Entities\",\n",
    "            \"Sentiment\",\n",
    "            \"Mentions\",\n",
    "            \"Hashtags\",\n",
    "            \"URLs\"\n",
    "        ]\n",
    "        \n",
    "        data = pd.read_csv(path, names=header, sep='\\t', quotechar='\"').sample(n = limit)\n",
    "        self.X = torch.from_numpy(data[['#Followers','#Friends','#Favorites']].values.astype(np.float32))\n",
    "        self.y = torch.from_numpy(data[['#Retweets']].values.astype(np.float32))\n",
    "\n",
    "    def __len__(self):\n",
    "        return len(self.X)\n",
    "\n",
    "    def __getitem__(self, idx):\n",
    "        return self.X[idx], self.y[idx]\n",
    "    \n",
    "class CreateDatasetAlt(Dataset):\n",
    "    def __init__(self, dataframe, limit=None):  \n",
    "        data = dataframe.sample(n = limit)\n",
    "        self.X = torch.from_numpy(dataframe[['#Followers','#Friends','#Favorites']].values.astype(np.float32))\n",
    "        self.y = dataframe['cluster']\n",
    "\n",
    "    def __len__(self):\n",
    "        return len(self.X)\n",
    "\n",
    "    def __getitem__(self, idx):\n",
    "        return self.X[idx], self.y[idx]"
   ]
  },
  {
   "cell_type": "code",
   "execution_count": 29,
   "metadata": {},
   "outputs": [],
   "source": [
    "dataset=CreateDatasetAlt(df, 100000)"
   ]
  },
  {
   "cell_type": "code",
   "execution_count": 30,
   "metadata": {},
   "outputs": [
    {
     "name": "stdout",
     "output_type": "stream",
     "text": [
      "1912070\n",
      "(tensor([808., 859.,   0.]), 0)\n"
     ]
    }
   ],
   "source": [
    "print(len(dataset))\n",
    "print(dataset[1])"
   ]
  },
  {
   "cell_type": "code",
   "execution_count": 31,
   "metadata": {},
   "outputs": [],
   "source": [
    "train, test = torch.utils.data.random_split(dataset, [int(len(dataset)*0.8), int(len(dataset)*0.2)], generator=torch.Generator().manual_seed(0))\n",
    "\n",
    "# create a data loader for train and test sets\n",
    "train_dl = DataLoader(train, batch_size=128, shuffle=True)\n",
    "test_dl = DataLoader(test, batch_size=1024, shuffle=False)"
   ]
  },
  {
   "cell_type": "markdown",
   "metadata": {},
   "source": [
    "## LogReg Classification Model"
   ]
  },
  {
   "cell_type": "code",
   "execution_count": 32,
   "metadata": {},
   "outputs": [],
   "source": [
    "class LogReg(nn.Module):\n",
    "    def __init__(self, num_feature, num_class):\n",
    "        super(LogReg, self).__init__()\n",
    "        \n",
    "        self.layer_1 = nn.Linear(num_feature, 512)\n",
    "        self.layer_2 = nn.Linear(512, 128)\n",
    "        self.layer_3 = nn.Linear(128, 64)\n",
    "        self.layer_out = nn.Linear(64, num_class) \n",
    "        \n",
    "        self.relu = nn.ReLU()\n",
    "        self.dropout = nn.Dropout(p=0.2)\n",
    "        self.batchnorm1 = nn.BatchNorm1d(512)\n",
    "        self.batchnorm2 = nn.BatchNorm1d(128)\n",
    "        self.batchnorm3 = nn.BatchNorm1d(64)\n",
    "        \n",
    "    def forward(self, x):\n",
    "        x = self.layer_1(x)\n",
    "        x = self.batchnorm1(x)\n",
    "        x = self.relu(x)\n",
    "        \n",
    "        x = self.layer_2(x)\n",
    "        x = self.batchnorm2(x)\n",
    "        x = self.relu(x)\n",
    "        x = self.dropout(x)\n",
    "        \n",
    "        x = self.layer_3(x)\n",
    "        x = self.batchnorm3(x)\n",
    "        x = self.relu(x)\n",
    "        x = self.dropout(x)\n",
    "        \n",
    "        x = self.layer_out(x)\n",
    "        \n",
    "        return x"
   ]
  },
  {
   "cell_type": "code",
   "execution_count": 33,
   "metadata": {},
   "outputs": [],
   "source": [
    "num_feature = 3\n",
    "num_class = 3\n",
    "learning_rate = 0.0007\n",
    "\n",
    "model = LogReg(num_feature, num_class)\n",
    "\n",
    "if torch.cuda.is_available():\n",
    "    model.cuda()"
   ]
  },
  {
   "cell_type": "code",
   "execution_count": 36,
   "metadata": {},
   "outputs": [
    {
     "name": "stderr",
     "output_type": "stream",
     "text": [
      "  2%|█▌                                                                               | 1/50 [01:15<1:01:52, 75.76s/it]"
     ]
    },
    {
     "name": "stdout",
     "output_type": "stream",
     "text": [
      "Epoch [0/50], Batch loss: 0.735\n"
     ]
    },
    {
     "name": "stderr",
     "output_type": "stream",
     "text": [
      " 12%|█████████▉                                                                         | 6/50 [07:31<55:30, 75.69s/it]"
     ]
    },
    {
     "name": "stdout",
     "output_type": "stream",
     "text": [
      "Epoch [5/50], Batch loss: 0.689\n"
     ]
    },
    {
     "name": "stderr",
     "output_type": "stream",
     "text": [
      " 22%|██████████████████                                                                | 11/50 [13:27<46:09, 71.02s/it]"
     ]
    },
    {
     "name": "stdout",
     "output_type": "stream",
     "text": [
      "Epoch [10/50], Batch loss: 0.679\n"
     ]
    },
    {
     "name": "stderr",
     "output_type": "stream",
     "text": [
      " 32%|██████████████████████████▏                                                       | 16/50 [19:14<39:43, 70.11s/it]"
     ]
    },
    {
     "name": "stdout",
     "output_type": "stream",
     "text": [
      "Epoch [15/50], Batch loss: 0.677\n"
     ]
    },
    {
     "name": "stderr",
     "output_type": "stream",
     "text": [
      " 42%|██████████████████████████████████▍                                               | 21/50 [25:02<33:38, 69.61s/it]"
     ]
    },
    {
     "name": "stdout",
     "output_type": "stream",
     "text": [
      "Epoch [20/50], Batch loss: 0.68\n"
     ]
    },
    {
     "name": "stderr",
     "output_type": "stream",
     "text": [
      " 52%|██████████████████████████████████████████▋                                       | 26/50 [31:34<30:48, 77.02s/it]"
     ]
    },
    {
     "name": "stdout",
     "output_type": "stream",
     "text": [
      "Epoch [25/50], Batch loss: 0.664\n"
     ]
    },
    {
     "name": "stderr",
     "output_type": "stream",
     "text": [
      " 62%|██████████████████████████████████████████████████▊                               | 31/50 [37:42<23:46, 75.07s/it]"
     ]
    },
    {
     "name": "stdout",
     "output_type": "stream",
     "text": [
      "Epoch [30/50], Batch loss: 0.673\n"
     ]
    },
    {
     "name": "stderr",
     "output_type": "stream",
     "text": [
      " 72%|███████████████████████████████████████████████████████████                       | 36/50 [43:59<17:32, 75.18s/it]"
     ]
    },
    {
     "name": "stdout",
     "output_type": "stream",
     "text": [
      "Epoch [35/50], Batch loss: 0.649\n"
     ]
    },
    {
     "name": "stderr",
     "output_type": "stream",
     "text": [
      " 82%|███████████████████████████████████████████████████████████████████▏              | 41/50 [49:51<10:31, 70.19s/it]"
     ]
    },
    {
     "name": "stdout",
     "output_type": "stream",
     "text": [
      "Epoch [40/50], Batch loss: 0.656\n"
     ]
    },
    {
     "name": "stderr",
     "output_type": "stream",
     "text": [
      " 92%|███████████████████████████████████████████████████████████████████████████▍      | 46/50 [55:50<04:48, 72.24s/it]"
     ]
    },
    {
     "name": "stdout",
     "output_type": "stream",
     "text": [
      "Epoch [45/50], Batch loss: 0.654\n"
     ]
    },
    {
     "name": "stderr",
     "output_type": "stream",
     "text": [
      "100%|████████████████████████████████████████████████████████████████████████████████| 50/50 [1:00:36<00:00, 72.73s/it]\n"
     ]
    }
   ],
   "source": [
    "criterion = nn.CrossEntropyLoss()\n",
    "optimizer = optim.SGD(model.parameters(), lr=learning_rate)\n",
    "\n",
    "num_epochs = 50\n",
    "for e in trange(num_epochs):\n",
    "    batch_losses = []\n",
    "    for i, (Xb, yb) in enumerate(train_dl):\n",
    "        _X = Variable(Xb.cuda())\n",
    "        _y = Variable(yb.type(torch.LongTensor).cuda())\n",
    "        preds = model(_X)\n",
    "        loss = criterion(preds, _y)\n",
    "        optimizer.zero_grad()\n",
    "        loss.backward()\n",
    "        optimizer.step()\n",
    "        \n",
    "        batch_losses.append(loss.item())\n",
    "\n",
    "    mbl = np.mean(np.sqrt(batch_losses)).round(3)\n",
    "    \n",
    "    if e % 5 == 0:\n",
    "        print(\"Epoch [{}/{}], Batch loss: {}\".format(e, num_epochs, mbl))\n"
   ]
  },
  {
   "cell_type": "code",
   "execution_count": null,
   "metadata": {},
   "outputs": [],
   "source": []
  },
  {
   "cell_type": "markdown",
   "metadata": {},
   "source": [
    "## LinReg Prediction Model\n"
   ]
  },
  {
   "cell_type": "code",
   "execution_count": null,
   "metadata": {},
   "outputs": [],
   "source": [
    "# simplest linear model\n",
    "class LinReg(torch.nn.Module):\n",
    "    def __init__(self, input_size, output_size):\n",
    "        super(LinReg, self).__init__()\n",
    "        self.linear = torch.nn.Linear(input_size, output_size)\n",
    "\n",
    "    def forward(self, x):\n",
    "        out = self.linear(x)\n",
    "        return out\n",
    "    \n",
    "# taken from torch regression example\n",
    "class LinReg2(nn.Module):\n",
    "    def __init__(self, input_size, hidden_size, output_size):\n",
    "        super(LinReg2, self).__init__()\n",
    "        self.dense_h1 = nn.Linear(in_features=input_size, out_features=hidden_size)\n",
    "        self.dense_out = nn.Linear(in_features=hidden_size, out_features=output_size)\n",
    "        self.relu_h1 = nn.ReLU()\n",
    "\n",
    "    def forward(self, X):\n",
    "\n",
    "        out = self.relu_h1(self.dense_h1(X))\n",
    "        out = self.dense_out(out)\n",
    "\n",
    "        return out\n"
   ]
  },
  {
   "cell_type": "code",
   "execution_count": null,
   "metadata": {},
   "outputs": [],
   "source": [
    "input_size = 3\n",
    "hidden_size = 3\n",
    "output_size = 1\n",
    "learningRate = 0.01 \n",
    "\n",
    "# model = LinReg(input_size, output_size)\n",
    "model = LinReg2(input_size, hidden_size, output_size)\n",
    "\n",
    "if torch.cuda.is_available():\n",
    "    model.cuda()"
   ]
  },
  {
   "cell_type": "code",
   "execution_count": null,
   "metadata": {},
   "outputs": [],
   "source": [
    "from tqdm.notebook import trange\n",
    "criterion = torch.nn.MSELoss() \n",
    "optimizer = torch.optim.SGD(model.parameters(), lr=learningRate)\n",
    "# optimizer = torch.optim.Adam(model.parameters(), lr=learningRate)\n",
    "\n",
    "num_epochs = 50\n",
    "for e in trange(num_epochs):\n",
    "    batch_losses = []\n",
    "    for i, (Xb, yb) in enumerate(train_dl):\n",
    "        _X = Variable(Xb.cuda())\n",
    "        _y = Variable(yb.cuda())\n",
    "        preds = model(_X)\n",
    "        loss = criterion(preds, _y)\n",
    "        optimizer.zero_grad()\n",
    "        loss.backward()\n",
    "        torch.nn.utils.clip_grad_norm_(model.parameters(), 1.0) #clip gradients since not normalizing inputs\n",
    "        optimizer.step()\n",
    "        \n",
    "        batch_losses.append(loss.item())\n",
    "\n",
    "    mbl = np.mean(np.sqrt(batch_losses)).round(3)\n",
    "    \n",
    "    if e % 5 == 0:\n",
    "        print(\"Epoch [{}/{}], Batch loss: {}\".format(e, num_epochs, mbl))"
   ]
  },
  {
   "cell_type": "code",
   "execution_count": null,
   "metadata": {},
   "outputs": [],
   "source": [
    "for _X, _y in test_dl:\n",
    "    test_batch_losses = []\n",
    "    _X = Variable(_X).cuda().float()\n",
    "    _y = Variable(_y).cuda().float()\n",
    "\n",
    "    #apply model\n",
    "    test_preds = model(_X)\n",
    "    test_loss = criterion(test_preds, _y)\n",
    "\n",
    "    test_batch_losses.append(test_loss.item())\n",
    "mbl = np.mean(np.sqrt(test_batch_losses)).round(3)\n",
    "\n",
    "print(\"Test loss: {}\".format(mbl))"
   ]
  },
  {
   "cell_type": "code",
   "execution_count": null,
   "metadata": {},
   "outputs": [],
   "source": [
    "model.eval()\n",
    "for _X, _y in test_dl:\n",
    "    test_batch_losses = []\n",
    "    _X = Variable(_X.cuda())\n",
    "    _y = Variable(_y.cuda())\n",
    "\n",
    "    #apply model\n",
    "    test_preds = model(_X)\n",
    "    test_loss = criterion(test_preds, _y)\n",
    "    print(_X[0])\n",
    "    print(test_preds)\n",
    "    print(_y)\n",
    "    break\n",
    "    "
   ]
  },
  {
   "cell_type": "code",
   "execution_count": null,
   "metadata": {},
   "outputs": [],
   "source": [
    "import xgboost as xgb\n",
    "\n"
   ]
  }
 ],
 "metadata": {
  "kernelspec": {
   "display_name": "Python 3",
   "language": "python",
   "name": "python3"
  },
  "language_info": {
   "codemirror_mode": {
    "name": "ipython",
    "version": 3
   },
   "file_extension": ".py",
   "mimetype": "text/x-python",
   "name": "python",
   "nbconvert_exporter": "python",
   "pygments_lexer": "ipython3",
   "version": "3.6.8"
  }
 },
 "nbformat": 4,
 "nbformat_minor": 4
}
