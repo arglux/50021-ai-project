{
 "cells": [
  {
   "cell_type": "markdown",
   "metadata": {},
   "source": [
    "# Team Members\n",
    "1. Aaron Khoo\n",
    "2. Calvin Yusnoveri \n",
    "3. Amarjyot Kaur Narula\n",
    "4. Joseph Chng 1003811"
   ]
  },
  {
   "cell_type": "markdown",
   "metadata": {},
   "source": [
    "# Task Description\n",
    "\n",
    "As COVID-19 impacts our daily routine and changed the norms that we accepted prior to the pandemic, it is thus an important task for us to quantify its impacts on the global stage. One example of such changes is the explosion of social media usage such as Twitter and Youtube, where most people who are not able to move freely, shares their thoughts through such platforms. Twitter in particular, provides a platform that allows the users to post their thoughts in a succint manner and add hashtags or mentions to increase the tweet's exposure on the platform. Our task will thus be to predict the number of retweets a tweet that is COVID-19 related will have using the TweetsCOV-19 dataset."
   ]
  },
  {
   "cell_type": "markdown",
   "metadata": {},
   "source": [
    "# Dataset Description\n",
    "\n",
    "The dataset that is used for this project is obtained from the COVID-19 Retweet Prediction Challenge. For this prediction model, we used Part 2 dataset that can be obtained from this website https://data.gesis.org/tweetscov19/#dataset. This dataset consists of tweets that is COVID-19 related from the month of May 2020.\n",
    "\n",
    "From the dataset, there are different features for the tweet data that we obtain and the feature description are as follows:\n",
    "\n",
    "1. Tweet Id: Long. Unique ID for a specific tweet\n",
    "2. Username: String. Username of the user that published the tweet which is encrypted for privacy.\n",
    "3. Timestamp: Format ( \"EEE MMM dd HH:mm:ss Z yyyy\" ). Specific time and date of the tweet\n",
    "4. #Followers: Integer. Number of followers of the Twitter user who posted the tweet.\n",
    "5. #Friends: Integer. Number of friends that the Twitter user who posted the tweet.\n",
    "6. #Retweets: Integer. Number of retweets that the tweet has obtained and is the label for this project.\n",
    "7. #Favorites: Integer. Number of favorites for the tweet\n",
    "8. Entities: String. The entities of the tweet is obtained by aggregating the original text. Every annotated entity will then have its produced score from FEL library. Each entity is separated by char \":\" to store the entity in this form \"original_text:annotated_entity:score;\". Each entity is separated from another entity by char \";\".Any tweet that has no corresponding entities will be stored as \"null;\".\n",
    "9. Sentiment: String. SentiStrength produces a score for positive (1 to 5) and negative (-1 to -5) sentiment. The two sentiments are splitted by whitespace char \" \". Positive sentiment was stored first and followed by negative sentiment (i.e. \"2 -1\").\n",
    "10. Mentions: String. Contains mentions and concatenate them with whitespace char \" \". If there is no mention, it is stored as \"null;\".\n",
    "11. Hashtags: String. Contains hashtags and concatenate the hashtags with whitespace char \" \". If there is no hashtag, it is stored as \"null;\".\n",
    "12. URLs: String: Contains URLs and concatenate the URLs using \":-: \". If there is no URL, it is stored as \"null;\""
   ]
  },
  {
   "cell_type": "markdown",
   "metadata": {},
   "source": [
    "# Preprocessing\n",
    "\n",
    "In order to train our prediction model, we have also done some preprocessing of the features that are available in the dataset. All these changes to the raw features allow us to link these processed features to the final retweet prediction in a more precise manner. \n",
    "\n",
    "Clean Data (Final structure/form of data before it is fed into the model):\n",
    "1. Username: String. Encrypted for privacy issues. - NOT USED\n",
    "2. #Followers: Integer.\n",
    "3. #Friends: Integer.\n",
    "4. #Retweets: Integer.\n",
    "5. #Favorites: Integer.\n",
    "6. "
   ]
  },
  {
   "cell_type": "markdown",
   "metadata": {},
   "source": [
    "## Hashtags & Mentions"
   ]
  },
  {
   "cell_type": "markdown",
   "metadata": {},
   "source": [
    "## Timestamp"
   ]
  },
  {
   "cell_type": "markdown",
   "metadata": {},
   "source": [
    "## Sentiment"
   ]
  },
  {
   "cell_type": "markdown",
   "metadata": {},
   "source": [
    "## Entities\n",
    "a"
   ]
  },
  {
   "cell_type": "markdown",
   "metadata": {},
   "source": [
    "# Model Architecture\n",
    "\n",
    "We use ensemble methods (insert image):\n",
    "1. 0-classifier (print out layer)\n",
    "2. regression model (print out layer)"
   ]
  },
  {
   "cell_type": "markdown",
   "metadata": {},
   "source": [
    "# Results\n",
    "\n",
    "Loss curve image. (Maybe save to .txt when training so can read independently and display with matplotlib independently.)\n",
    "\n",
    "Accuracy on train and test set. (just run test.py on test set)\n",
    "\n",
    "Validation images. (just screenshot gui)"
   ]
  },
  {
   "cell_type": "markdown",
   "metadata": {},
   "source": [
    "# Discussion\n",
    "\n",
    "comparing with state of the art.\n",
    "\n",
    "possible issues. possible improvements"
   ]
  },
  {
   "cell_type": "markdown",
   "metadata": {},
   "source": [
    "# GUI\n",
    "\n",
    "Step-by-step Usage:\n",
    "1. run xxx\n",
    "2. click button\n",
    "3. done"
   ]
  },
  {
   "cell_type": "markdown",
   "metadata": {},
   "source": [
    "# Sources\n",
    "\n",
    "1. Source code: https://github.com/arglux/50021-ai-project\n",
    "2. Report: \n",
    "3. Reference papers:"
   ]
  },
  {
   "cell_type": "code",
   "execution_count": null,
   "metadata": {},
   "outputs": [],
   "source": []
  }
 ],
 "metadata": {
  "kernelspec": {
   "display_name": "Python 3",
   "language": "python",
   "name": "python3"
  },
  "language_info": {
   "codemirror_mode": {
    "name": "ipython",
    "version": 3
   },
   "file_extension": ".py",
   "mimetype": "text/x-python",
   "name": "python",
   "nbconvert_exporter": "python",
   "pygments_lexer": "ipython3",
   "version": "3.8.5"
  }
 },
 "nbformat": 4,
 "nbformat_minor": 4
}
